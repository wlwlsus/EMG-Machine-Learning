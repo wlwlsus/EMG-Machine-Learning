{
  "nbformat": 4,
  "nbformat_minor": 0,
  "metadata": {
    "colab": {
      "name": "SampleModel.ipynb",
      "provenance": [],
      "collapsed_sections": [],
      "authorship_tag": "ABX9TyM9mj1unNuD0JpOL9lGh9bb",
      "include_colab_link": true
    },
    "kernelspec": {
      "name": "python3",
      "display_name": "Python 3"
    }
  },
  "cells": [
    {
      "cell_type": "markdown",
      "metadata": {
        "id": "view-in-github",
        "colab_type": "text"
      },
      "source": [
        "<a href=\"https://colab.research.google.com/github/wlwlsus/EMG-Machine-Learning/blob/main/SampleModel.ipynb\" target=\"_parent\"><img src=\"https://colab.research.google.com/assets/colab-badge.svg\" alt=\"Open In Colab\"/></a>"
      ]
    },
    {
      "cell_type": "code",
      "metadata": {
        "id": "uPMx3Q2Zk4xC"
      },
      "source": [
        "from tensorflow import keras\r\n",
        "from google.colab import drive\r\n",
        "import pandas as pd\r\n",
        "\r\n",
        "import numpy as np\r\n",
        "import os\r\n",
        "import matplotlib.pyplot as plt"
      ],
      "execution_count": null,
      "outputs": []
    },
    {
      "cell_type": "code",
      "metadata": {
        "colab": {
          "base_uri": "https://localhost:8080/"
        },
        "id": "uV9BJW-WnGVw",
        "outputId": "5c79d761-7dbf-4324-fb45-8b5cff837025"
      },
      "source": [
        "drive.mount('/gdrive')"
      ],
      "execution_count": null,
      "outputs": [
        {
          "output_type": "stream",
          "text": [
            "Drive already mounted at /gdrive; to attempt to forcibly remount, call drive.mount(\"/gdrive\", force_remount=True).\n"
          ],
          "name": "stdout"
        }
      ]
    },
    {
      "cell_type": "code",
      "metadata": {
        "id": "aUeZhiYQnSux"
      },
      "source": [
        "base_url = '/gdrive/MyDrive/Deu EMG Machine Learning/data'\r\n",
        "os.chdir(base_url)"
      ],
      "execution_count": null,
      "outputs": []
    },
    {
      "cell_type": "code",
      "metadata": {
        "id": "AgrbSO8y4qBJ"
      },
      "source": [
        "os.chdir(base_url)\r\n",
        "data_list = []\r\n",
        "\r\n",
        "\r\n",
        "# plt.figure(figsize=(80,80))\r\n",
        "# for i in range(1,5+1):\r\n",
        "#     plt.subplot(5,5,i)\r\n",
        "#     train_loc = './'+str(i)+'.csv'\r\n",
        "#     trains = np.loadtxt(train_loc, delimiter=',', dtype=float)\r\n",
        "#     train_datas = trains[10:-1]\r\n",
        "#     plt.title('EMG Signal',fontdict= font)\r\n",
        "#     plt.xlabel(\"Time\",fontdict=font)\r\n",
        "#     plt.ylabel(\"EMG Amplitude\",fontdict=font)\r\n",
        "#     plt.plot(train_datas)"
      ],
      "execution_count": null,
      "outputs": []
    },
    {
      "cell_type": "code",
      "metadata": {
        "colab": {
          "base_uri": "https://localhost:8080/"
        },
        "id": "cRL-KWEQnG2U",
        "outputId": "37bc3935-351d-4c81-d04d-107bd7ca06c4"
      },
      "source": [
        "\r\n",
        "train_loc = \"./example_train.csv\"\r\n",
        "test_loc = \"./example_test.csv\"\r\n",
        "\r\n",
        "trains = np.loadtxt(train_loc, delimiter=',', dtype=float)\r\n",
        "train_datas = trains[:,:-1]\r\n",
        "train_labels = trains[:,-1].reshape([len(trains),1])\r\n",
        "\r\n",
        "tests = np.loadtxt(test_loc, delimiter=',', dtype=float)\r\n",
        "test_datas = tests[:,:-1]\r\n",
        "test_labels = tests[:,-1].reshape([len(tests),1])\r\n",
        "\r\n",
        "print(train_datas.shape)\r\n",
        "print(train_labels.shape)\r\n",
        "\r\n",
        "print(test_datas.shape)\r\n",
        "print(test_labels.shape)"
      ],
      "execution_count": null,
      "outputs": [
        {
          "output_type": "stream",
          "text": [
            "(200, 629)\n",
            "(200, 1)\n",
            "(30, 629)\n",
            "(30, 1)\n"
          ],
          "name": "stdout"
        }
      ]
    },
    {
      "cell_type": "code",
      "metadata": {
        "colab": {
          "base_uri": "https://localhost:8080/"
        },
        "id": "5b3kOJZhqPIY",
        "outputId": "33fa74a7-2a9e-4026-da28-a8a87261b7af"
      },
      "source": [
        "train_datas"
      ],
      "execution_count": null,
      "outputs": [
        {
          "output_type": "execute_result",
          "data": {
            "text/plain": [
              "array([[ 47.11702812,  47.1395368 ,  47.2064135 , ...,  48.08072538,\n",
              "         48.07497223,  48.06866963],\n",
              "       [ 46.98800362,  47.00849637,  47.06938599, ...,  47.64844578,\n",
              "         47.65887362,  47.66892298],\n",
              "       [ 46.75808464,  46.78246752,  46.85490983, ...,  47.49494497,\n",
              "         47.47520062,  47.45536621],\n",
              "       ...,\n",
              "       [124.21711792, 123.64340625, 123.03013173, ...,  44.64864423,\n",
              "         44.63103089,  44.61390282],\n",
              "       [119.95516972, 119.41346756, 118.82944334, ...,  44.90910159,\n",
              "         44.91177903,  44.91501345],\n",
              "       [123.0149185 , 122.45132729, 121.8484668 , ...,  44.8332053 ,\n",
              "         44.81699116,  44.80129367]])"
            ]
          },
          "metadata": {
            "tags": []
          },
          "execution_count": 25
        }
      ]
    },
    {
      "cell_type": "code",
      "metadata": {
        "id": "4US2e0IvoGkm"
      },
      "source": [
        "# 모델 생성 메소드\r\n",
        "def create_model():\r\n",
        "    model = keras.Sequential([\r\n",
        "        keras.layers.Dense(128, activation='relu'),\r\n",
        "        keras.layers.Dense(len(train_labels), activation='softmax')\r\n",
        "    ])\r\n",
        "\r\n",
        "    model.compile(optimizer='adam',\r\n",
        "                loss='sparse_categorical_crossentropy',\r\n",
        "                metrics=['accuracy'])\r\n",
        "\r\n",
        "    return model\r\n",
        "\r\n",
        "model = create_model()"
      ],
      "execution_count": null,
      "outputs": []
    },
    {
      "cell_type": "code",
      "metadata": {
        "id": "EBy8SUFE0L8V",
        "colab": {
          "base_uri": "https://localhost:8080/"
        },
        "outputId": "5f17a848-ce9d-43af-e926-ff8760201fb5"
      },
      "source": [
        "model.summary()"
      ],
      "execution_count": null,
      "outputs": [
        {
          "output_type": "stream",
          "text": [
            "Model: \"sequential\"\n",
            "_________________________________________________________________\n",
            "Layer (type)                 Output Shape              Param #   \n",
            "=================================================================\n",
            "dense (Dense)                (None, 128)               80640     \n",
            "_________________________________________________________________\n",
            "dense_1 (Dense)              (None, 200)               25800     \n",
            "=================================================================\n",
            "Total params: 106,440\n",
            "Trainable params: 106,440\n",
            "Non-trainable params: 0\n",
            "_________________________________________________________________\n"
          ],
          "name": "stdout"
        }
      ]
    },
    {
      "cell_type": "code",
      "metadata": {
        "id": "ZgoYOS1coJYI"
      },
      "source": [
        "# 훈련단계\r\n",
        "model.fit(train_datas, train_labels, epochs=100)"
      ],
      "execution_count": null,
      "outputs": []
    },
    {
      "cell_type": "code",
      "metadata": {
        "id": "c74Ysxn_oKWH",
        "colab": {
          "base_uri": "https://localhost:8080/"
        },
        "outputId": "c99007fd-94ff-4c07-bf24-a86fe6bccbde"
      },
      "source": [
        "# 정확도 평가 단계\r\n",
        "test_loss, test_acc = model.evaluate(test_datas,  test_labels, verbose=2)\r\n",
        "print('\\ntest accuracy:', test_acc)"
      ],
      "execution_count": null,
      "outputs": [
        {
          "output_type": "stream",
          "text": [
            "1/1 - 0s - loss: 0.0000e+00 - accuracy: 1.0000\n",
            "\n",
            "test accuracy: 1.0\n"
          ],
          "name": "stdout"
        }
      ]
    },
    {
      "cell_type": "code",
      "metadata": {
        "id": "o-CbU63zqGJA",
        "colab": {
          "base_uri": "https://localhost:8080/"
        },
        "outputId": "1e7c57ac-4b45-45b6-e390-54943ff05903"
      },
      "source": [
        "predictions = model.predict(test_datas)\r\n",
        "\r\n",
        "predict_data = test_datas[10]\r\n",
        "predict_data2 = test_datas[20]\r\n",
        "\r\n",
        "predict_data = (np.expand_dims(predict_data,0))\r\n",
        "predict_data2 = (np.expand_dims(predict_data2,0))\r\n",
        "\r\n",
        "\r\n",
        "pr = model.predict(predict_data)\r\n",
        "pr2 = model.predict(predict_data2)\r\n",
        "\r\n",
        "print(f'테스트 데이터 의 결과 값 : {np.argmax(pr[0])}')\r\n",
        "print(f'테스트 데이터 의 결과 값 : {np.argmax(pr2[0])}')"
      ],
      "execution_count": null,
      "outputs": [
        {
          "output_type": "stream",
          "text": [
            "테스트 데이터 의 결과 값 : 1\n",
            "테스트 데이터 의 결과 값 : 0\n"
          ],
          "name": "stdout"
        }
      ]
    },
    {
      "cell_type": "code",
      "metadata": {
        "id": "I16jPG9nqKBh",
        "colab": {
          "base_uri": "https://localhost:8080/",
          "height": 283
        },
        "outputId": "b7d8e527-a210-4762-cf64-ad685a406e1a"
      },
      "source": [
        "plt.plot(test_datas[10])\r\n",
        "plt.plot(test_datas[20])"
      ],
      "execution_count": null,
      "outputs": [
        {
          "output_type": "execute_result",
          "data": {
            "text/plain": [
              "[<matplotlib.lines.Line2D at 0x7fa22b2eb828>]"
            ]
          },
          "metadata": {
            "tags": []
          },
          "execution_count": 23
        },
        {
          "output_type": "display_data",
          "data": {
            "image/png": "[encoded data removed]",
            "text/plain": [
              "<Figure size 432x288 with 1 Axes>"
            ]
          },
          "metadata": {
            "tags": [],
            "needs_background": "light"
          }
        }
      ]
    }
  ]
}