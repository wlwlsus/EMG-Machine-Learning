{
  "nbformat": 4,
  "nbformat_minor": 0,
  "metadata": {
    "colab": {
      "name": "DataAnalysis.ipynb",
      "provenance": [],
      "collapsed_sections": [],
      "authorship_tag": "ABX9TyMqj7hX1fKYMVC+gH220JMG",
      "include_colab_link": true
    },
    "kernelspec": {
      "name": "python3",
      "display_name": "Python 3"
    }
  },
  "cells": [
    {
      "cell_type": "markdown",
      "metadata": {
        "id": "view-in-github",
        "colab_type": "text"
      },
      "source": [
        "<a href=\"https://colab.research.google.com/github/wlwlsus/EMG-Machine-Learning/blob/main/DataAnalysis.ipynb\" target=\"_parent\"><img src=\"https://colab.research.google.com/assets/colab-badge.svg\" alt=\"Open In Colab\"/></a>"
      ]
    },
    {
      "cell_type": "code",
      "metadata": {
        "id": "kdPcs5cKY_cm"
      },
      "source": [
        "from tensorflow import keras\r\n",
        "import tensorflow as tf\r\n",
        "from google.colab import drive\r\n",
        "import pandas as pd\r\n",
        "from sklearn.preprocessing import MinMaxScaler\r\n",
        "\r\n",
        "import numpy as np\r\n",
        "import os\r\n",
        "import matplotlib.pyplot as plt"
      ],
      "execution_count": 2,
      "outputs": []
    },
    {
      "cell_type": "code",
      "metadata": {
        "colab": {
          "base_uri": "https://localhost:8080/"
        },
        "id": "hGV1qH6WZGPm",
        "outputId": "9f1a96e5-4a51-43d3-adb4-160f88c7b442"
      },
      "source": [
        "drive.mount('/gdrive')"
      ],
      "execution_count": 3,
      "outputs": [
        {
          "output_type": "stream",
          "text": [
            "Mounted at /gdrive\n"
          ],
          "name": "stdout"
        }
      ]
    },
    {
      "cell_type": "code",
      "metadata": {
        "colab": {
          "base_uri": "https://localhost:8080/"
        },
        "id": "1Jx-8ECflVh_",
        "outputId": "257bc8af-e6f5-460e-ab17-790ec1309403"
      },
      "source": [
        "start = 25\r\n",
        "\"\"\"\r\n",
        "훈련 파일 작업\r\n",
        "\"\"\"\r\n",
        "# 경로 설정\r\n",
        "base_url = '/gdrive/MyDrive/Deu EMG Machine Learning/data/train'\r\n",
        "os.chdir(base_url)\r\n",
        "\r\n",
        "# 빈 데이터 배열 생성\r\n",
        "train_list = []\r\n",
        "\r\n",
        "total_train = 200\r\n",
        "\r\n",
        "# 1번부터 200번까지 EMG 데이터 호출\r\n",
        "for k in range(1,total_train+1):\r\n",
        "    train_loc = './EMG_train_'+str(k)+'.csv'\r\n",
        "    trains = np.loadtxt(train_loc, delimiter=',', dtype=float)\r\n",
        "    train_list.append(trains)\r\n",
        "\r\n",
        "# Numpy로 설정\r\n",
        "train_list = np.array(train_list)\r\n",
        "\r\n",
        "#train data\r\n",
        "train_datas = train_list[:,start:-1]\r\n",
        "train_labels = train_list[:,-1].reshape([len(train_list),1])\r\n",
        "\r\n",
        "# 전체 데이터에서 절반 만큼 '1'로 라벨링 작업\r\n",
        "for i in range(100):\r\n",
        "    train_labels[i] = np.array([1],dtype=float)\r\n",
        "\r\n",
        "# 결과\r\n",
        "print(train_datas.shape)\r\n",
        "print(train_labels.shape)\r\n",
        "\r\n",
        "\"\"\"\r\n",
        "테스트 파일 작업\r\n",
        "\"\"\"\r\n",
        "# 경로 설정\r\n",
        "base_url = '/gdrive/MyDrive/Deu EMG Machine Learning/data/test'\r\n",
        "os.chdir(base_url)\r\n",
        "\r\n",
        "test_list = []\r\n",
        "\r\n",
        "total_test = 20\r\n",
        "# 1번부터 200번까지 EMG 데이터 호출\r\n",
        "for k in range(1,total_test+1):\r\n",
        "    train_loc = './EMG_test_'+str(k)+'.csv'\r\n",
        "    trains = np.loadtxt(train_loc, delimiter=',', dtype=float)\r\n",
        "    test_list.append(trains)\r\n",
        "\r\n",
        "# Numpy로 설정\r\n",
        "test_list = np.array(test_list)\r\n",
        "\r\n",
        "#train data\r\n",
        "test_datas = test_list[:,start:-1]\r\n",
        "test_labels = test_list[:,-1].reshape([len(test_list),1])\r\n",
        "\r\n",
        "# 전체 데이터에서 절반 만큼 '1'로 라벨링 작업\r\n",
        "for i in range(10):\r\n",
        "    test_labels[i] = np.array([1],dtype=float)\r\n",
        "\r\n",
        "# 결과\r\n",
        "print(test_datas.shape)\r\n",
        "print(test_labels.shape)\r\n"
      ],
      "execution_count": null,
      "outputs": [
        {
          "output_type": "stream",
          "text": [
            "(200, 276)\n",
            "(200, 1)\n",
            "(20, 276)\n",
            "(20, 1)\n"
          ],
          "name": "stdout"
        }
      ]
    },
    {
      "cell_type": "code",
      "metadata": {
        "colab": {
          "base_uri": "https://localhost:8080/"
        },
        "id": "3XLI6uyYUPWU",
        "outputId": "44a87b9a-e3d2-4b86-e7f8-5579281d0bcc"
      },
      "source": [
        "test_datas[19]"
      ],
      "execution_count": null,
      "outputs": [
        {
          "output_type": "execute_result",
          "data": {
            "text/plain": [
              "array([130., 128., 128., 128., 132., 129., 117., 132., 128., 128., 127.,\n",
              "       142., 109., 132., 126., 144., 110., 133., 125., 143., 110., 135.,\n",
              "       126., 142., 109., 134., 126., 142., 110., 135., 126., 142., 111.,\n",
              "       133., 126., 143., 109., 134., 126., 141., 111., 133., 126., 142.,\n",
              "       111., 133., 126., 142., 110., 133., 127., 142., 112., 133., 126.,\n",
              "       141., 111., 133., 126., 141., 111., 133., 126., 141., 113., 133.,\n",
              "       126., 143., 109., 134., 126., 141., 112., 133., 126., 142., 111.,\n",
              "       133., 126., 141., 113., 132., 125., 141., 112., 133., 126., 141.,\n",
              "       113., 132., 127., 141., 113., 132., 127., 141., 112., 132., 126.,\n",
              "       141., 112., 132., 126., 141., 112., 133., 126., 143., 110., 134.,\n",
              "       126., 138., 116., 132., 126., 139., 116., 135., 119., 149., 110.,\n",
              "       131., 120., 141., 122., 128., 126., 138., 123., 125., 128., 151.,\n",
              "        96., 136., 127., 129., 141., 111., 133., 129., 129., 122., 129.,\n",
              "       141., 113., 128., 128., 133., 128., 125., 128., 134., 126., 123.,\n",
              "       129., 134., 122., 128., 127., 136., 121., 128., 128., 133., 125.,\n",
              "       127., 128., 133., 125., 127., 128., 132., 126., 127., 128., 133.,\n",
              "       126., 126., 128., 132., 126., 126., 128., 132., 126., 127., 128.,\n",
              "       133., 124., 128., 128., 133., 127., 126., 128., 132., 127., 126.,\n",
              "       128., 132., 128., 124., 128., 131., 128., 125., 128., 132., 128.,\n",
              "       126., 128., 132., 128., 125., 128., 130., 128., 125., 128., 131.,\n",
              "       129., 125., 128., 130., 129., 124., 128., 131., 128., 125., 128.,\n",
              "       131., 128., 124., 129., 130., 129., 125., 128., 130., 130., 124.,\n",
              "       128., 130., 130., 123., 128., 130., 130., 124., 128., 130., 130.,\n",
              "       123., 128., 129., 129., 125., 128., 129., 131., 124., 128., 129.,\n",
              "       131., 123., 129., 129., 131., 123., 128., 129., 132., 121., 128.,\n",
              "       130.])"
            ]
          },
          "metadata": {
            "tags": []
          },
          "execution_count": 29
        }
      ]
    },
    {
      "cell_type": "code",
      "metadata": {
        "colab": {
          "base_uri": "https://localhost:8080/"
        },
        "id": "47ZO3wAdAsMt",
        "outputId": "1c9e9c74-0c4f-4a2e-f84f-bb65de783ecf"
      },
      "source": [
        "#  MinMaxScaler 스케일링 진행\r\n",
        "minMaxScaler = MinMaxScaler()\r\n",
        "minMaxScaler.fit(train_datas)\r\n",
        "train_data_minMaxScaled = minMaxScaler.transform(train_datas)\r\n",
        "\r\n",
        "\r\n",
        "minMaxScaler.fit(test_datas)\r\n",
        "test_data_minMaxScaled = minMaxScaler.transform(test_datas)\r\n",
        "len(train_data_minMaxScaled)\r\n",
        "len(test_data_minMaxScaled)\r\n"
      ],
      "execution_count": null,
      "outputs": [
        {
          "output_type": "execute_result",
          "data": {
            "text/plain": [
              "20"
            ]
          },
          "metadata": {
            "tags": []
          },
          "execution_count": 7
        }
      ]
    },
    {
      "cell_type": "code",
      "metadata": {
        "id": "0VONc4EMeOUf"
      },
      "source": [
        "# 그래프 하나 찍어보기\r\n",
        "plt.figure(figsize=(50,10))\r\n",
        "\r\n",
        "font = {'family': 'serif',\r\n",
        "        'color':  'white',\r\n",
        "        'weight': 'normal',\r\n",
        "        'size': 28,\r\n",
        "        }\r\n",
        "plt.ylim(80,180)\r\n",
        "plt.xticks(fontsize=30)\r\n",
        "plt.yticks(fontsize=30)\r\n",
        "plt.grid()\r\n",
        "plt.title('EMG Signal',fontdict= font)\r\n",
        "plt.xlabel(\"Time\",fontdict=font)\r\n",
        "plt.ylabel(\"EMG Amplitude\",fontdict=font)\r\n",
        "plt.plot(test_datas[0])"
      ],
      "execution_count": null,
      "outputs": []
    },
    {
      "cell_type": "code",
      "metadata": {
        "id": "d59Succc0CQ3"
      },
      "source": [
        "# 그래프 여러개 모아보기\r\n",
        "font = {'family': 'serif',\r\n",
        "        'color':  'white',\r\n",
        "        'weight': 'normal',\r\n",
        "        'size': 16,\r\n",
        "        }\r\n",
        "\r\n",
        "plt.figure(figsize=(20,20))\r\n",
        "for i in range(1,21):\r\n",
        "    plt.subplot(5,5,i)\r\n",
        "    plt.ylim(80,180)\r\n",
        "    # plt.xticks(fontsize=30)\r\n",
        "    # plt.yticks(fontsize=30)\r\n",
        "    plt.grid()\r\n",
        "\r\n",
        "    plt.title('EMG Signal',fontdict= font)\r\n",
        "    plt.xlabel(\"Time\",fontdict=font)\r\n",
        "    plt.ylabel(\"EMG Amplitude\",fontdict=font)\r\n",
        "    plt.plot(train_datas[i])"
      ],
      "execution_count": null,
      "outputs": []
    },
    {
      "cell_type": "code",
      "metadata": {
        "id": "GMlTs3Ux6bdM"
      },
      "source": [
        "# 모델 생성 메소드\r\n",
        "def create_model():\r\n",
        "    model = keras.Sequential([\r\n",
        "        keras.layers.Dense(128, activation='relu'),\r\n",
        "        keras.layers.Dense(1, activation='sigmoid'),\r\n",
        "        #keras.layers.Dense(len(train_labels), activation='softmax')\r\n",
        "    ])\r\n",
        "\r\n",
        "    model.compile(optimizer='adam',\r\n",
        "                loss='binary_crossentropy',\r\n",
        "                metrics=['accuracy'])\r\n",
        "\r\n",
        "    return model\r\n",
        "\r\n",
        "model = create_model()"
      ],
      "execution_count": null,
      "outputs": []
    },
    {
      "cell_type": "code",
      "metadata": {
        "id": "J50ivHM56gU8"
      },
      "source": [
        "# 훈련단계\r\n",
        "history = model.fit(train_data_minMaxScaled, train_labels,validation_split=0.2, epochs=350)"
      ],
      "execution_count": null,
      "outputs": []
    },
    {
      "cell_type": "code",
      "metadata": {
        "colab": {
          "base_uri": "https://localhost:8080/",
          "height": 298
        },
        "id": "Wq1_5VY6Htet",
        "outputId": "40805460-e4af-4b7a-8ab4-3159cb072c72"
      },
      "source": [
        "model.summary()"
      ],
      "execution_count": null,
      "outputs": [
        {
          "output_type": "error",
          "ename": "ValueError",
          "evalue": "ignored",
          "traceback": [
            "\u001b[0;31m---------------------------------------------------------------------------\u001b[0m",
            "\u001b[0;31mValueError\u001b[0m                                Traceback (most recent call last)",
            "\u001b[0;32m<ipython-input-25-5f15418b3570>\u001b[0m in \u001b[0;36m<module>\u001b[0;34m()\u001b[0m\n\u001b[0;32m----> 1\u001b[0;31m \u001b[0mmodel\u001b[0m\u001b[0;34m.\u001b[0m\u001b[0msummary\u001b[0m\u001b[0;34m(\u001b[0m\u001b[0;34m)\u001b[0m\u001b[0;34m\u001b[0m\u001b[0;34m\u001b[0m\u001b[0m\n\u001b[0m",
            "\u001b[0;32m/usr/local/lib/python3.6/dist-packages/tensorflow/python/keras/engine/training.py\u001b[0m in \u001b[0;36msummary\u001b[0;34m(self, line_length, positions, print_fn)\u001b[0m\n\u001b[1;32m   2374\u001b[0m     \"\"\"\n\u001b[1;32m   2375\u001b[0m     \u001b[0;32mif\u001b[0m \u001b[0;32mnot\u001b[0m \u001b[0mself\u001b[0m\u001b[0;34m.\u001b[0m\u001b[0mbuilt\u001b[0m\u001b[0;34m:\u001b[0m\u001b[0;34m\u001b[0m\u001b[0;34m\u001b[0m\u001b[0m\n\u001b[0;32m-> 2376\u001b[0;31m       raise ValueError('This model has not yet been built. '\n\u001b[0m\u001b[1;32m   2377\u001b[0m                        \u001b[0;34m'Build the model first by calling `build()` or calling '\u001b[0m\u001b[0;34m\u001b[0m\u001b[0;34m\u001b[0m\u001b[0m\n\u001b[1;32m   2378\u001b[0m                        \u001b[0;34m'`fit()` with some data, or specify '\u001b[0m\u001b[0;34m\u001b[0m\u001b[0;34m\u001b[0m\u001b[0m\n",
            "\u001b[0;31mValueError\u001b[0m: This model has not yet been built. Build the model first by calling `build()` or calling `fit()` with some data, or specify an `input_shape` argument in the first layer(s) for automatic build."
          ]
        }
      ]
    },
    {
      "cell_type": "code",
      "metadata": {
        "colab": {
          "base_uri": "https://localhost:8080/",
          "height": 573
        },
        "id": "Z1ZJqYY8D_1D",
        "outputId": "f889c9c5-086c-4509-8171-f917a385d2b8"
      },
      "source": [
        "# summarize history for accuracy\r\n",
        "plt.plot(history.history['accuracy'])\r\n",
        "plt.title('model accuracy')\r\n",
        "plt.ylabel('accuracy')\r\n",
        "plt.xlabel('epoch')\r\n",
        "plt.legend(['train', 'test'], loc='upper left')\r\n",
        "plt.show()\r\n",
        "\r\n",
        "# summarize history for loss\r\n",
        "plt.plot(history.history['loss'])\r\n",
        "plt.title('model loss')\r\n",
        "plt.ylabel('loss')\r\n",
        "plt.xlabel('epoch')\r\n",
        "plt.legend(['train', 'test'], loc='upper left')\r\n",
        "plt.show()"
      ],
      "execution_count": null,
      "outputs": [
        {
          "output_type": "display_data",
          "data": {
            "image/png": "[encoded data removed]",
            "text/plain": [
              "<Figure size 432x288 with 1 Axes>"
            ]
          },
          "metadata": {
            "tags": [],
            "needs_background": "light"
          }
        },
        {
          "output_type": "display_data",
          "data": {
            "image/png": "[encoded data removed]",
            "text/plain": [
              "<Figure size 432x288 with 1 Axes>"
            ]
          },
          "metadata": {
            "tags": [],
            "needs_background": "light"
          }
        }
      ]
    },
    {
      "cell_type": "code",
      "metadata": {
        "colab": {
          "base_uri": "https://localhost:8080/"
        },
        "id": "4gKLu6Rv70Br",
        "outputId": "302bdb4b-236f-4219-b177-261381ce3802"
      },
      "source": [
        "# 정확도 평가 단계\r\n",
        "test_loss, test_acc = model.evaluate(test_data_minMaxScaled,  test_labels, verbose=2)\r\n",
        "print('\\n정확도 :', str(test_acc * 100)+\"%\")"
      ],
      "execution_count": null,
      "outputs": [
        {
          "output_type": "stream",
          "text": [
            "1/1 - 0s - loss: 0.7019 - accuracy: 0.5500\n",
            "\n",
            "정확도 : 55.000001192092896%\n"
          ],
          "name": "stdout"
        }
      ]
    },
    {
      "cell_type": "code",
      "metadata": {
        "colab": {
          "base_uri": "https://localhost:8080/"
        },
        "id": "vgWZ-IhdkPLg",
        "outputId": "aa77f454-7f52-4186-fbf6-c7562ec2e75a"
      },
      "source": [
        "predictions = model.predict(test_datas)\r\n",
        "\r\n",
        "predict_data = test_datas[18]\r\n",
        "predict_data2 = test_datas[1]\r\n",
        "\r\n",
        "predict_data = (np.expand_dims(predict_data,0))\r\n",
        "predict_data2 = (np.expand_dims(predict_data2,0))\r\n",
        "\r\n",
        "\r\n",
        "pr = model.predict(predict_data)\r\n",
        "pr2 = model.predict(predict_data2)\r\n",
        "\r\n",
        "print(f'테스트 데이터 의 결과 값 : {np.argmax(pr[0])}')\r\n",
        "print(f'테스트 데이터 의 결과 값 : {np.argmax(pr2[0])}')"
      ],
      "execution_count": null,
      "outputs": [
        {
          "output_type": "stream",
          "text": [
            "테스트 데이터 의 결과 값 : 0\n",
            "테스트 데이터 의 결과 값 : 0\n"
          ],
          "name": "stdout"
        }
      ]
    },
    {
      "cell_type": "code",
      "metadata": {
        "colab": {
          "base_uri": "https://localhost:8080/"
        },
        "id": "jb8k-o47PeBt",
        "outputId": "e375b724-0b99-48ec-85e2-07dfcd73fbf1"
      },
      "source": [
        "converter = tf.lite.TFLiteConverter.from_keras_model(model)\r\n",
        "tflite_model = converter.convert()\r\n",
        "open('/gdrive/MyDrive/Deu EMG Machine Learning/emg.tflite','wb').write(tflite_model)"
      ],
      "execution_count": null,
      "outputs": [
        {
          "output_type": "stream",
          "text": [
            "INFO:tensorflow:Assets written to: /tmp/tmpp8uzfw9e/assets\n"
          ],
          "name": "stdout"
        },
        {
          "output_type": "stream",
          "text": [
            "INFO:tensorflow:Assets written to: /tmp/tmpp8uzfw9e/assets\n"
          ],
          "name": "stderr"
        },
        {
          "output_type": "execute_result",
          "data": {
            "text/plain": [
              "143732"
            ]
          },
          "metadata": {
            "tags": []
          },
          "execution_count": 23
        }
      ]
    }
  ]
}